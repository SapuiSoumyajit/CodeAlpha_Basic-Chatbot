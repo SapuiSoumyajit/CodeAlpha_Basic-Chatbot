{
  "nbformat": 4,
  "nbformat_minor": 0,
  "metadata": {
    "colab": {
      "provenance": [],
      "authorship_tag": "ABX9TyMpFiu9dxXS5YeN5yaBEZZ7"
    },
    "kernelspec": {
      "name": "python3",
      "display_name": "Python 3"
    },
    "language_info": {
      "name": "python"
    }
  },
  "cells": [
    {
      "cell_type": "code",
      "execution_count": 1,
      "metadata": {
        "colab": {
          "base_uri": "https://localhost:8080/"
        },
        "id": "KqYM2eHH7_iW",
        "outputId": "87e15b0c-3ac5-4266-fc86-d824897a763a"
      },
      "outputs": [
        {
          "output_type": "stream",
          "name": "stdout",
          "text": [
            "ChatBot: Hello! I am a simple chatbot. Type 'bye' to exit.\n",
            "You: hi\n",
            "ChatBot: Sorry, I don't understand that.\n",
            "You: You\n",
            "ChatBot: Sorry, I don't understand that.\n",
            "You: hello\n",
            "ChatBot: Hi!\n",
            "You: how are you\n",
            "ChatBot: I'm fine, thanks!\n",
            "You: bye\n",
            "ChatBot: Goodbye!\n"
          ]
        }
      ],
      "source": [
        "def chatbot():\n",
        "    print(\"ChatBot: Hello! I am a simple chatbot. Type 'bye' to exit.\")\n",
        "\n",
        "    while True:\n",
        "        user_input = input(\"You: \").lower().strip()\n",
        "\n",
        "        if user_input == \"hello\":\n",
        "            print(\"ChatBot: Hi!\")\n",
        "        elif user_input == \"how are you\":\n",
        "            print(\"ChatBot: I'm fine, thanks!\")\n",
        "        elif user_input == \"bye\":\n",
        "            print(\"ChatBot: Goodbye!\")\n",
        "            break\n",
        "        else:\n",
        "            print(\"ChatBot: Sorry, I don't understand that.\")\n",
        "\n",
        "# Start the chatbot\n",
        "chatbot()\n"
      ]
    }
  ]
}